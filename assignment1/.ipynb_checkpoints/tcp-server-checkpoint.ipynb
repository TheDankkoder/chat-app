{
 "cells": [
  {
   "cell_type": "code",
   "execution_count": 1,
   "id": "cc72c2c7",
   "metadata": {},
   "outputs": [],
   "source": [
    "import socket\n",
    "import threading\n",
    "\n",
    "# Dictionary to store key-value pairs for each client\n",
    "clients = {}\n",
    "# Dictionary to store client roles\n",
    "roles = {}"
   ]
  },
  {
   "cell_type": "code",
   "execution_count": 2,
   "id": "ec37cd95",
   "metadata": {},
   "outputs": [],
   "source": [
    "def handle_client(client, address):\n",
    "    # Initially assign client the \"guest\" role\n",
    "    roles[address] = \"manager\"\n",
    "    while True:\n",
    "        # Receive data from client\n",
    "     \n",
    "        data = client.recv(1024).decode()\n",
    "        #print(data)\n",
    "        if not data:\n",
    "            print(f\"[DISCONNECTED] {address} disconnected.\")\n",
    "            del clients[address]\n",
    "            del roles[address]\n",
    "            client.close()\n",
    "            break\n",
    "        else:\n",
    "            # Split data into command and parameters\n",
    "            data = data.split()\n",
    "            print(data,len(data))\n",
    "            command = data[0].lower()\n",
    "\n",
    "            if command == 'get':\n",
    "                if len(data) == 2:\n",
    "                    key = data[1]\n",
    "                    if key in clients[address]:\n",
    "                        value = clients[address][key]\n",
    "                        client.send(value.encode())\n",
    "                    else:\n",
    "                        client.send(\"Key not found.\".encode())\n",
    "                else:\n",
    "                    client.send(\"Invalid number of parameters.\".encode())\n",
    "\n",
    "            elif command == 'put':\n",
    "                if roles[address] == \"guest\":\n",
    "                    if len(data) == 3:\n",
    "                        key_value_pair = data[1]+' '+data[2]\n",
    "                        key,value = key_value_pair.split(' ')\n",
    "                        clients[address][key] = value\n",
    "                        client.send(\"Key-value pair added.\".encode())\n",
    "                    else:\n",
    "                        client.send(\"Invalid number of parameters.\".encode())\n",
    "                else:\n",
    "                    client.send(\"Unauthorized. Only managers can add key-value pairs.\".encode())\n",
    "            elif command == 'upgrade':\n",
    "                if roles[address] == \"manager\":\n",
    "                    if len(data) == 3:\n",
    "                        upgrade_address = data[1]\n",
    "                        roles[upgrade_address] = \"manager\"\n",
    "                        client.send(\"Role upgrade successful.\".encode())\n",
    "                    else:\n",
    "                        client.send(\"Invalid number of parameters.\".encode())\n",
    "                else:\n",
    "                    client.send(\"Unauthorized. Only managers can upgrade roles.\".encode())\n",
    "            else:\n",
    "                client.send(\"Invalid command.\".encode())"
   ]
  },
  {
   "cell_type": "code",
   "execution_count": 3,
   "id": "ee73456f",
   "metadata": {},
   "outputs": [],
   "source": [
    "def start_server():\n",
    "    host = \"127.0.0.1\"\n",
    "    port = 5555\n",
    "\n",
    "    server = socket.socket(socket.AF_INET, socket.SOCK_STREAM)\n",
    "    server.bind((host, port))\n",
    "    print(f\"[LISTENING] Server is listening on {host}:{port}...\")\n",
    "    server.listen()\n",
    "\n",
    "    while True:\n",
    "        client, address = server.accept()\n",
    "        print(f\"[CONNECTED] {str(address)} connected.\")\n",
    "        clients[address] = {}\n",
    "        client.send(\"Connection established.\".encode())\n",
    "        handle_client(client,address)\n",
    "        thread = threading.Thread(target=handle_client, args=(client, address))\n",
    "        thread.start()"
   ]
  },
  {
   "cell_type": "code",
   "execution_count": null,
   "id": "8086b9e6",
   "metadata": {},
   "outputs": [
    {
     "name": "stdout",
     "output_type": "stream",
     "text": [
      "[STARTING] Server is starting...\n",
      "[LISTENING] Server is listening on 127.0.0.1:5555...\n"
     ]
    },
    {
     "name": "stderr",
     "output_type": "stream",
     "text": [
      "Exception in thread Thread-5:\n",
      "Traceback (most recent call last):\n",
      "  File \"C:\\Users\\Shivam\\anaconda3\\envs\\tf\\lib\\threading.py\", line 973, in _bootstrap_inner\n",
      "    self.run()\n",
      "  File \"C:\\Users\\Shivam\\anaconda3\\envs\\tf\\lib\\threading.py\", line 910, in run\n",
      "    self._target(*self._args, **self._kwargs)\n",
      "  File \"C:\\Users\\Shivam\\AppData\\Local\\Temp\\ipykernel_7020\\1408734707.py\", line 7, in handle_client\n",
      "OSError: [WinError 10038] An operation was attempted on something that is not a socket\n"
     ]
    },
    {
     "name": "stdout",
     "output_type": "stream",
     "text": [
      "[CONNECTED] ('127.0.0.1', 52600) connected.\n",
      "['put', 'city', 'Kolkata', 'put', 'country', 'India'] 6\n",
      "['get', 'city'] 2\n",
      "['get', 'country'] 2\n",
      "[DISCONNECTED] ('127.0.0.1', 52600) disconnected.\n"
     ]
    },
    {
     "name": "stderr",
     "output_type": "stream",
     "text": [
      "Exception in thread Thread-6:\n",
      "Traceback (most recent call last):\n",
      "  File \"C:\\Users\\Shivam\\anaconda3\\envs\\tf\\lib\\threading.py\", line 973, in _bootstrap_inner\n",
      "    self.run()\n",
      "  File \"C:\\Users\\Shivam\\anaconda3\\envs\\tf\\lib\\threading.py\", line 910, in run\n",
      "    self._target(*self._args, **self._kwargs)\n",
      "  File \"C:\\Users\\Shivam\\AppData\\Local\\Temp\\ipykernel_7020\\1408734707.py\", line 7, in handle_client\n",
      "OSError: [WinError 10038] An operation was attempted on something that is not a socket\n"
     ]
    },
    {
     "name": "stdout",
     "output_type": "stream",
     "text": [
      "[CONNECTED] ('127.0.0.1', 52608) connected.\n",
      "['put', 'city', 'Kolkata', 'put', 'country', 'India'] 6\n",
      "['get', 'city'] 2\n",
      "['get', 'country'] 2\n",
      "[DISCONNECTED] ('127.0.0.1', 52608) disconnected.\n"
     ]
    },
    {
     "name": "stderr",
     "output_type": "stream",
     "text": [
      "Exception in thread Thread-7:\n",
      "Traceback (most recent call last):\n",
      "  File \"C:\\Users\\Shivam\\anaconda3\\envs\\tf\\lib\\threading.py\", line 973, in _bootstrap_inner\n",
      "    self.run()\n",
      "  File \"C:\\Users\\Shivam\\anaconda3\\envs\\tf\\lib\\threading.py\", line 910, in run\n",
      "    self._target(*self._args, **self._kwargs)\n",
      "  File \"C:\\Users\\Shivam\\AppData\\Local\\Temp\\ipykernel_7020\\1408734707.py\", line 7, in handle_client\n",
      "OSError: [WinError 10038] An operation was attempted on something that is not a socket\n"
     ]
    },
    {
     "name": "stdout",
     "output_type": "stream",
     "text": [
      "[CONNECTED] ('127.0.0.1', 52631) connected.\n",
      "['put', 'city', 'Kolkata'] 3\n",
      "['put', 'country', 'India', 'get', 'city'] 5\n",
      "['get', 'country'] 2\n",
      "[DISCONNECTED] ('127.0.0.1', 52631) disconnected.\n"
     ]
    },
    {
     "name": "stderr",
     "output_type": "stream",
     "text": [
      "Exception in thread Thread-8:\n",
      "Traceback (most recent call last):\n",
      "  File \"C:\\Users\\Shivam\\anaconda3\\envs\\tf\\lib\\threading.py\", line 973, in _bootstrap_inner\n",
      "    self.run()\n",
      "  File \"C:\\Users\\Shivam\\anaconda3\\envs\\tf\\lib\\threading.py\", line 910, in run\n",
      "    self._target(*self._args, **self._kwargs)\n",
      "  File \"C:\\Users\\Shivam\\AppData\\Local\\Temp\\ipykernel_7020\\1408734707.py\", line 7, in handle_client\n",
      "OSError: [WinError 10038] An operation was attempted on something that is not a socket\n"
     ]
    },
    {
     "name": "stdout",
     "output_type": "stream",
     "text": [
      "[CONNECTED] ('127.0.0.1', 52636) connected.\n",
      "['put', 'city', 'Kolkata', 'put', 'country', 'India'] 6\n",
      "['get', 'city'] 2\n",
      "['get', 'country'] 2\n",
      "[DISCONNECTED] ('127.0.0.1', 52636) disconnected.\n"
     ]
    },
    {
     "name": "stderr",
     "output_type": "stream",
     "text": [
      "Exception in thread Thread-9:\n",
      "Traceback (most recent call last):\n",
      "  File \"C:\\Users\\Shivam\\anaconda3\\envs\\tf\\lib\\threading.py\", line 973, in _bootstrap_inner\n",
      "    self.run()\n",
      "  File \"C:\\Users\\Shivam\\anaconda3\\envs\\tf\\lib\\threading.py\", line 910, in run\n",
      "    self._target(*self._args, **self._kwargs)\n",
      "  File \"C:\\Users\\Shivam\\AppData\\Local\\Temp\\ipykernel_7020\\1408734707.py\", line 7, in handle_client\n",
      "OSError: [WinError 10038] An operation was attempted on something that is not a socket\n"
     ]
    },
    {
     "name": "stdout",
     "output_type": "stream",
     "text": [
      "[CONNECTED] ('127.0.0.1', 52639) connected.\n",
      "['put', 'city', 'Kolkata', 'put', 'country', 'India'] 6\n",
      "['get', 'city'] 2\n",
      "['get', 'country'] 2\n",
      "[DISCONNECTED] ('127.0.0.1', 52639) disconnected.\n"
     ]
    },
    {
     "name": "stderr",
     "output_type": "stream",
     "text": [
      "Exception in thread Thread-10:\n",
      "Traceback (most recent call last):\n",
      "  File \"C:\\Users\\Shivam\\anaconda3\\envs\\tf\\lib\\threading.py\", line 973, in _bootstrap_inner\n",
      "    self.run()\n",
      "  File \"C:\\Users\\Shivam\\anaconda3\\envs\\tf\\lib\\threading.py\", line 910, in run\n",
      "    self._target(*self._args, **self._kwargs)\n",
      "  File \"C:\\Users\\Shivam\\AppData\\Local\\Temp\\ipykernel_7020\\1408734707.py\", line 7, in handle_client\n",
      "OSError: [WinError 10038] An operation was attempted on something that is not a socket\n"
     ]
    },
    {
     "name": "stdout",
     "output_type": "stream",
     "text": [
      "[CONNECTED] ('127.0.0.1', 52648) connected.\n",
      "['put', 'city', 'Kolkata'] 3\n",
      "['put', 'country', 'India'] 3\n",
      "['get', 'city'] 2\n",
      "['get', 'country'] 2\n",
      "[DISCONNECTED] ('127.0.0.1', 52648) disconnected.\n"
     ]
    }
   ],
   "source": [
    "print(\"[STARTING] Server is starting...\")\n",
    "start_server()"
   ]
  },
  {
   "cell_type": "code",
   "execution_count": null,
   "id": "a755f11a",
   "metadata": {},
   "outputs": [],
   "source": [
    "print(clients)"
   ]
  },
  {
   "cell_type": "code",
   "execution_count": null,
   "id": "b20b9971",
   "metadata": {},
   "outputs": [],
   "source": []
  }
 ],
 "metadata": {
  "kernelspec": {
   "display_name": "Python 3 (ipykernel)",
   "language": "python",
   "name": "python3"
  },
  "language_info": {
   "codemirror_mode": {
    "name": "ipython",
    "version": 3
   },
   "file_extension": ".py",
   "mimetype": "text/x-python",
   "name": "python",
   "nbconvert_exporter": "python",
   "pygments_lexer": "ipython3",
   "version": "3.9.12"
  }
 },
 "nbformat": 4,
 "nbformat_minor": 5
}
